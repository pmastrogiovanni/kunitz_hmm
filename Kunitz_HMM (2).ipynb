{
  "nbformat": 4,
  "nbformat_minor": 0,
  "metadata": {
    "colab": {
      "name": "Kunitz_HMM.ipynb",
      "provenance": [],
      "collapsed_sections": [
        "4XWb3-5U61e1",
        "8U8dxlAUE0uc",
        "rNYwejzoE8T1",
        "5e18bSXwUqFb",
        "hw1x9rKW-DPy",
        "xFrrswgk_JnQ",
        "vcihKEwuYHTU",
        "ARYE3ceUpwhe",
        "jvWUhPRDReBR"
      ]
    },
    "kernelspec": {
      "name": "python3",
      "display_name": "Python 3"
    },
    "language_info": {
      "name": "python"
    }
  },
  "cells": [
    {
      "cell_type": "markdown",
      "source": [
        "# Dataset curation\n",
        "# Preparation of the training set\n",
        "\n",
        "The training set will be composed by proteins with the kunitz domain downloaded on the PDB and on PDBefold."
      ],
      "metadata": {
        "id": "4XWb3-5U61e1"
      }
    },
    {
      "cell_type": "markdown",
      "source": [
        "### PDB Dataset\n",
        "The PDB dataset was obtained through an advanced search, using as filters:\n",
        "- The pfam identifier PF00014 (which stands for the kunitz domain)\n",
        "- Data collection resolution <= 3\n",
        "- Polymer entity mutation count = 0\n"
      ],
      "metadata": {
        "id": "8U8dxlAUE0uc"
      }
    },
    {
      "cell_type": "code",
      "source": [
        "! wget https://raw.githubusercontent.com/pmastrogiovanni/kunitz_hmm/main/starting_files/pdb_ids.txt"
      ],
      "metadata": {
        "id": "2k4C4kLwDMDV"
      },
      "execution_count": null,
      "outputs": []
    },
    {
      "cell_type": "code",
      "source": [
        "! cat pdb_ids.txt"
      ],
      "metadata": {
        "colab": {
          "base_uri": "https://localhost:8080/"
        },
        "id": "9kr1iGm2ECu6",
        "outputId": "b6155a86-9729-4773-9bf3-3eef922f843c"
      },
      "execution_count": 2,
      "outputs": [
        {
          "output_type": "stream",
          "name": "stdout",
          "text": [
            "1BUN,4NTW,4NTX,4NTY,1BRB,1BRC,1BTH,1BZX,1CA0,1CBW,1CO7,1EAW,1EJM,1F5R,1F7Z,1FAK,1FY8,1MTN,1P2I,1P2J,1P2K,1P2M,1P2N,1P2O,1P2Q,1T7C,1T8L,1T8M,1T8N,1T8O,1TAW,1TFX,1TPA,1YC0,1YKT,1ZJD,1ZR0,2FI3,2FTL,2IJO,2KAI,2PTC,2R9P,2RA3,2TGP,2TPI,3BTD,3BTE,3BTF,3BTG,3BTH,3BTK,3BTM,3BTQ,3BTT,3BTW,3D65,3FP6,3FP8,3GYM,3L33,3M7Q,3OTJ,3T62,3TGI,3TGJ,3TGK,3TPI,3U1J,3UIR,3UOU,4BNR,4DG4,4DTG,4ISL,4ISN,4ISO,4TPI,4U30,4U32,4WWY,4WXV,5NX1,5NX3,6GFI,6HAR,1AAL,1AAP,1B0C,1BHC,1BIK,1BPI,1BPT,1BTI,1BZ5,1D0D,1DTX,1FAN,1KNT,1KTH,1NAG,2HEX,2KNT,2ODY,3BYB,3LDI,3LDJ,3LDM,3OFW,3WNY,4BD9,4PTI,5NMV,5PTI,5YVU,5YW1,5ZJ3,6PTI,6Q61,6YHY,7PTI,8PTI,9PTI,3FP7,5JBT\n"
          ]
        }
      ]
    },
    {
      "cell_type": "markdown",
      "source": [
        "Since the standard download option from the PDB formats the IDs on a single row, some data processing is needed."
      ],
      "metadata": {
        "id": "KBGU7I3mS1ZV"
      }
    },
    {
      "cell_type": "code",
      "source": [
        "#to have each PDB id on a different row\n",
        "! cat pdb_ids.txt |tr ',' '\\n' >PDB-advanced-ID_only.txt"
      ],
      "metadata": {
        "id": "xgR7AZqZDHA8"
      },
      "execution_count": 3,
      "outputs": []
    },
    {
      "cell_type": "code",
      "source": [
        "! head -n 5 PDB-advanced-ID_only.txt "
      ],
      "metadata": {
        "colab": {
          "base_uri": "https://localhost:8080/"
        },
        "id": "2uQp7u-bEOFb",
        "outputId": "888b6064-bc1e-4383-ed8e-39336d6820cc"
      },
      "execution_count": 4,
      "outputs": [
        {
          "output_type": "stream",
          "name": "stdout",
          "text": [
            "1BUN\n",
            "4NTW\n",
            "4NTX\n",
            "4NTY\n",
            "1BRB\n"
          ]
        }
      ]
    },
    {
      "cell_type": "code",
      "source": [
        "! wc PDB-advanced-ID_only.txt"
      ],
      "metadata": {
        "colab": {
          "base_uri": "https://localhost:8080/"
        },
        "id": "e7I4Q9GKEgwh",
        "outputId": "cfbaef37-3ed5-48d5-8d8e-4e963d3d7c2a"
      },
      "execution_count": 5,
      "outputs": [
        {
          "output_type": "stream",
          "name": "stdout",
          "text": [
            "125 125 625 PDB-advanced-ID_only.txt\n"
          ]
        }
      ]
    },
    {
      "cell_type": "markdown",
      "source": [
        "### PDBeFold Dataset\n",
        "The dataset was downloaded on PDBe-fold, using the chain I of the 3tgi protein as reference structure."
      ],
      "metadata": {
        "id": "rNYwejzoE8T1"
      }
    },
    {
      "cell_type": "code",
      "source": [
        "! wget https://raw.githubusercontent.com/pmastrogiovanni/kunitz_hmm/main/starting_files/pdbefold_summary.txt"
      ],
      "metadata": {
        "id": "15ubVYDkFFyc"
      },
      "execution_count": null,
      "outputs": []
    },
    {
      "cell_type": "code",
      "source": [
        "! tail pdbefold_summary.txt"
      ],
      "metadata": {
        "colab": {
          "base_uri": "https://localhost:8080/"
        },
        "id": "NmwqFctdFpTA",
        "outputId": "39fadb47-aa8d-478c-deff-0ece0a37786f"
      },
      "execution_count": 7,
      "outputs": [
        {
          "output_type": "stream",
          "name": "stdout",
          "text": [
            "  643     0.04055    0.001348      0.4834     4.655    21    3    1     0.04762    0     56      4     57      4    PDB 3tgi:I  PDB 5aaq:A\n",
            "  644     0.03984    0.000397      0.3721     4.694    30    3    3         0.1    0     56      4    117      4    PDB 3tgi:I  PDB 6tbm:O\n",
            "  645      0.0373    0.001398      0.5804     4.814    28    3    4     0.03571    0     56      4    105      4    PDB 3tgi:I  PDB 6r6h:P\n",
            "  646      0.0365     0.00767      0.6745     5.212    31    3    3     0.03226    0     56      4    117      4    PDB 3tgi:I  PDB 5mq4:C\n",
            "  647     0.03488     0.03441      0.9695     4.611    27    3    2     0.07407    0     56      4    111      4    PDB 3tgi:I  PDB 6umg:c\n",
            "  648     0.03392      0.2747       1.765     4.455    26    3    2           0    0     56      4    111      4    PDB 3tgi:I  PDB 5mq4:D\n",
            "  649     0.02931     0.07331       1.174     4.677    25    3    2        0.08    0     56      4    111      4    PDB 3tgi:I  PDB 5mq4:B\n",
            "  650     0.02929     0.07073       1.164     4.680    25    3    2        0.08    0     56      4    111      4    PDB 3tgi:I  PDB 5mq4:E\n",
            "  651     0.02906     0.06891       1.154     4.705    25    3    2        0.08    0     56      4    111      4    PDB 3tgi:I  PDB 5mq4:F\n",
            "  652     0.02612   5.606e-09      0.1755     4.629    19    3    3      0.1053    0     56      4     73      4    PDB 3tgi:I  PDB 6x6e:A\n"
          ]
        }
      ]
    },
    {
      "cell_type": "code",
      "source": [
        "! head pdbefold_summary.txt"
      ],
      "metadata": {
        "colab": {
          "base_uri": "https://localhost:8080/"
        },
        "id": "cUPMUrhDHSpB",
        "outputId": "f87c3d87-6d1d-4fec-b2f2-927ced8072ef"
      },
      "execution_count": 8,
      "outputs": [
        {
          "output_type": "stream",
          "name": "stdout",
          "text": [
            " PDBe Fold v2.59. (src3) 14 Apr 2014 result file.\n",
            "\n",
            "                   RESULT SUMMARY\n",
            "\n",
            "   ##      Q-score      P-score     Z-score   RMSD    Nalgn Nsse Ngaps Seq-%     Nmd Nres-Q Nsse-Q Nres-T Nsse-T Query Target\n",
            "    1           1       16.18       11.93     0.000    56    4    0           1    0     56      4     56      4    PDB 3tgi:I  PDB 3tgi:I\n",
            "    2      0.9986       13.58        10.9     0.112    56    4    0           1    0     56      4     56      4    PDB 3tgi:I  PDB 1f7z:I\n",
            "    3      0.9984       13.58        10.9     0.121    56    4    0           1    0     56      4     56      4    PDB 3tgi:I  PDB 1fy8:I\n",
            "    4      0.9984       13.58        10.9     0.122    56    4    0           1    0     56      4     56      4    PDB 3tgi:I  PDB 1ykt:B\n",
            "    5      0.9975       13.13       10.71     0.151    56    4    0           1    0     56      4     56      4    PDB 3tgi:I  PDB 3tgk:I\n"
          ]
        }
      ]
    },
    {
      "cell_type": "code",
      "source": [
        "#To filter and take only the IDs of the proteins with a Z-score >= 3 and a RMSD <= 1.5\n",
        "! awk '{if ($4>=3 && $5<=1.5) print toupper($NF)}' pdbefold_summary.txt > pdbefold_IDs-chain.txt"
      ],
      "metadata": {
        "id": "Z32i21BiLB4u"
      },
      "execution_count": 9,
      "outputs": []
    },
    {
      "cell_type": "code",
      "source": [
        "! head -n 5 pdbefold_IDs-chain.txt"
      ],
      "metadata": {
        "colab": {
          "base_uri": "https://localhost:8080/"
        },
        "id": "T3TpEMZJJkhM",
        "outputId": "709e264b-003c-4572-d6ed-b45ced04ff97"
      },
      "execution_count": 10,
      "outputs": [
        {
          "output_type": "stream",
          "name": "stdout",
          "text": [
            "3TGI:I\n",
            "1F7Z:I\n",
            "1FY8:I\n",
            "1YKT:B\n",
            "3TGK:I\n"
          ]
        }
      ]
    },
    {
      "cell_type": "code",
      "source": [
        "! wc pdbefold_IDs-chain.txt"
      ],
      "metadata": {
        "colab": {
          "base_uri": "https://localhost:8080/"
        },
        "id": "v1UoRpWbNY11",
        "outputId": "315cd5a3-eb17-4636-c64b-04ab48ced779"
      },
      "execution_count": 11,
      "outputs": [
        {
          "output_type": "stream",
          "name": "stdout",
          "text": [
            " 336  336 2352 pdbefold_IDs-chain.txt\n"
          ]
        }
      ]
    },
    {
      "cell_type": "code",
      "source": [
        "#To remove the chains\n",
        "! awk '{print substr($0,1,length($0)-2)}' pdbefold_IDs-chain.txt > pdbefold_IDs.txt"
      ],
      "metadata": {
        "id": "HU8snzhkM6Wv"
      },
      "execution_count": 12,
      "outputs": []
    },
    {
      "cell_type": "code",
      "source": [
        "! head -n 5 pdbefold_IDs.txt"
      ],
      "metadata": {
        "colab": {
          "base_uri": "https://localhost:8080/"
        },
        "id": "j9P03DQBNT55",
        "outputId": "7c02f643-2a56-4d1e-ad03-04f38a4aaa02"
      },
      "execution_count": 13,
      "outputs": [
        {
          "output_type": "stream",
          "name": "stdout",
          "text": [
            "3TGI\n",
            "1F7Z\n",
            "1FY8\n",
            "1YKT\n",
            "3TGK\n"
          ]
        }
      ]
    },
    {
      "cell_type": "code",
      "source": [
        "! wc pdbefold_IDs.txt"
      ],
      "metadata": {
        "colab": {
          "base_uri": "https://localhost:8080/"
        },
        "id": "yU268U7gNcVs",
        "outputId": "fc2f0f51-d5b4-4ece-935f-fa0426a89121"
      },
      "execution_count": 14,
      "outputs": [
        {
          "output_type": "stream",
          "name": "stdout",
          "text": [
            " 336  336 1680 pdbefold_IDs.txt\n"
          ]
        }
      ]
    },
    {
      "cell_type": "markdown",
      "source": [
        "### Merged dataset\n",
        "Now that all the IDs are isolated, taking the common ones from the 2 files, the chance of getting wrong data gets lowered\n",
        "\n",
        "Then for each ID we will need to recover the fasta format with the sequence.\n"
      ],
      "metadata": {
        "id": "5e18bSXwUqFb"
      }
    },
    {
      "cell_type": "code",
      "source": [
        "#To merge the 2 lists of IDs and take only the common ones\n",
        "! comm -12 <(sort PDB-advanced-ID_only.txt) <(sort pdbefold_IDs.txt) > comm_IDs.txt"
      ],
      "metadata": {
        "id": "9DDKy4s7OQti"
      },
      "execution_count": 15,
      "outputs": []
    },
    {
      "cell_type": "code",
      "source": [
        "! wc comm_IDs.txt"
      ],
      "metadata": {
        "colab": {
          "base_uri": "https://localhost:8080/"
        },
        "id": "pmsUxbruPTmx",
        "outputId": "ff54072b-c1c7-4072-e8d3-76827d8a5e97"
      },
      "execution_count": 16,
      "outputs": [
        {
          "output_type": "stream",
          "name": "stdout",
          "text": [
            "119 119 595 comm_IDs.txt\n"
          ]
        }
      ]
    },
    {
      "cell_type": "code",
      "source": [
        "#to recover the chains of the remaining IDs, which will be needed to get the sequence\n",
        "! join -t $\":\" -j 1 <(sort comm_IDs.txt) <(sort pdbefold_IDs-chain.txt) > comm_IDchains.txt"
      ],
      "metadata": {
        "id": "TxjFb19bP8Re"
      },
      "execution_count": 17,
      "outputs": []
    },
    {
      "cell_type": "code",
      "source": [
        "! head -n 5 comm_IDchains.txt"
      ],
      "metadata": {
        "colab": {
          "base_uri": "https://localhost:8080/"
        },
        "id": "Zs-P7dWfS9u4",
        "outputId": "e3a728db-9713-4510-81f8-812a1e376840"
      },
      "execution_count": 18,
      "outputs": [
        {
          "output_type": "stream",
          "name": "stdout",
          "text": [
            "1AAL:A\n",
            "1AAL:B\n",
            "1AAP:A\n",
            "1AAP:B\n",
            "1B0C:A\n"
          ]
        }
      ]
    },
    {
      "cell_type": "code",
      "source": [
        "! wc comm_IDchains.txt"
      ],
      "metadata": {
        "colab": {
          "base_uri": "https://localhost:8080/"
        },
        "id": "LJ-mT6lpnrc1",
        "outputId": "85a60b47-eec5-48cb-99eb-b367f2a77550"
      },
      "execution_count": 19,
      "outputs": [
        {
          "output_type": "stream",
          "name": "stdout",
          "text": [
            " 205  205 1435 comm_IDchains.txt\n"
          ]
        }
      ]
    },
    {
      "cell_type": "code",
      "source": [
        "#Download all the reference sequences from the PDB\n",
        "! wget https://ftp.rcsb.org/pub/pdb/derived_data/pdb_seqres.txt"
      ],
      "metadata": {
        "id": "9nDCnGSeT9IE"
      },
      "execution_count": null,
      "outputs": []
    },
    {
      "cell_type": "code",
      "source": [
        "! head pdb_seqres.txt"
      ],
      "metadata": {
        "colab": {
          "base_uri": "https://localhost:8080/"
        },
        "id": "Cmtl36lDsNcg",
        "outputId": "da9de6a1-7907-4364-e300-d2775c891d10"
      },
      "execution_count": 21,
      "outputs": [
        {
          "output_type": "stream",
          "name": "stdout",
          "text": [
            ">101m_A mol:protein length:154  MYOGLOBIN\n",
            "MVLSEGEWQLVLHVWAKVEADVAGHGQDILIRLFKSHPETLEKFDRVKHLKTEAEMKASEDLKKHGVTVLTALGAILKKKGHHEAELKPLAQSHATKHKIPIKYLEFISEAIIHVLHSRHPGNFGADAQGAMNKALELFRKDIAAKYKELGYQG\n",
            ">102l_A mol:protein length:165  T4 LYSOZYME\n",
            "MNIFEMLRIDEGLRLKIYKDTEGYYTIGIGHLLTKSPSLNAAAKSELDKAIGRNTNGVITKDEAEKLFNQDVDAAVRGILRNAKLKPVYDSLDAVRRAALINMVFQMGETGVAGFTNSLRMLQQKRWDEAAVNLAKSRWYNQTPNRAKRVITTFRTGTWDAYKNL\n",
            ">102m_A mol:protein length:154  MYOGLOBIN\n",
            "MVLSEGEWQLVLHVWAKVEADVAGHGQDILIRLFKSHPETLEKFDRFKHLKTEAEMKASEDLKKAGVTVLTALGAILKKKGHHEAELKPLAQSHATKHKIPIKYLEFISEAIIHVLHSRHPGNFGADAQGAMNKALELFRKDIAAKYKELGYQG\n",
            ">103l_A mol:protein length:167  T4 LYSOZYME\n",
            "MNIFEMLRIDEGLRLKIYKDTEGYYTIGIGHLLTKSPSLNSLDAAKSELDKAIGRNTNGVITKDEAEKLFNQDVDAAVRGILRNAKLKPVYDSLDAVRRAALINMVFQMGETGVAGFTNSLRMLQQKRWDEAAVNLAKSRWYNQTPNRAKRVITTFRTGTWDAYKNL\n",
            ">103m_A mol:protein length:154  MYOGLOBIN\n",
            "MVLSEGEWQLVLHVWAKVEADVAGHGQDILIRLFKSHPETLEKFDRFKHLKTEAEMKASEDLKKAGVTVLTALGAILKKKGHHEAELKPLAQSHATKHKIPIKYLEFISEAIIHVLHSRHPGNFGADAQGAMNKALELFRKDIAAKYKELGYQG\n"
          ]
        }
      ]
    },
    {
      "cell_type": "code",
      "source": [
        "#To get the same format of the seqres file\n",
        "! sed 's/:/ /g' comm_IDchains.txt | awk '{print tolower($1)\"_\"$2}' > comm_final_format.txt"
      ],
      "metadata": {
        "id": "_LInh-gQqvx0"
      },
      "execution_count": 22,
      "outputs": []
    },
    {
      "cell_type": "code",
      "source": [
        "! head -n 5 comm_final_format.txt"
      ],
      "metadata": {
        "colab": {
          "base_uri": "https://localhost:8080/"
        },
        "id": "io1NydHTpGrP",
        "outputId": "407e65f3-b6e2-4a50-e42a-d65da5497075"
      },
      "execution_count": 23,
      "outputs": [
        {
          "output_type": "stream",
          "name": "stdout",
          "text": [
            "1aal_A\n",
            "1aal_B\n",
            "1aap_A\n",
            "1aap_B\n",
            "1b0c_A\n"
          ]
        }
      ]
    },
    {
      "cell_type": "code",
      "source": [
        "#To obtain the sequences for our ID-chains\n",
        "! for i in `cat comm_final_format.txt` ; do grep -A 1 \">\"$i pdb_seqres.txt ; done > dataset.fasta"
      ],
      "metadata": {
        "id": "6aNJchLcpApk"
      },
      "execution_count": 24,
      "outputs": []
    },
    {
      "cell_type": "code",
      "source": [
        "! head dataset.fasta"
      ],
      "metadata": {
        "colab": {
          "base_uri": "https://localhost:8080/"
        },
        "id": "hHK-RmZBsgSL",
        "outputId": "d7ebbe0a-0f15-41b6-ef44-d1087205910d"
      },
      "execution_count": 25,
      "outputs": [
        {
          "output_type": "stream",
          "name": "stdout",
          "text": [
            ">1aal_A mol:protein length:58  BOVINE PANCREATIC TRYPSIN INHIBITOR\n",
            "RPDFCLEPPYTGPCKARIIRYFYNAKAGLVQTFVYGGCRAKRNNFKSAEDAMRTCGGA\n",
            ">1aal_B mol:protein length:58  BOVINE PANCREATIC TRYPSIN INHIBITOR\n",
            "RPDFCLEPPYTGPCKARIIRYFYNAKAGLVQTFVYGGCRAKRNNFKSAEDAMRTCGGA\n",
            ">1aap_A mol:protein length:58  ALZHEIMER'S DISEASE AMYLOID A4 PROTEIN\n",
            "VREVCSEQAETGPCRAMISRWYFDVTEGKCAPFFYGGCGGNRNNFDTEEYCMAVCGSA\n",
            ">1aap_B mol:protein length:58  ALZHEIMER'S DISEASE AMYLOID A4 PROTEIN\n",
            "VREVCSEQAETGPCRAMISRWYFDVTEGKCAPFFYGGCGGNRNNFDTEEYCMAVCGSA\n",
            ">1b0c_A mol:protein length:58  PROTEIN (PANCREATIC TRYPSIN INHIBITOR)\n",
            "RPDFCLEPPYTGPCKARIIRYFYNAKAGLCQTFVYGGCRAKRNNFKSAEDCMRTCGGA\n"
          ]
        }
      ]
    },
    {
      "cell_type": "code",
      "source": [
        "! wc dataset.fasta"
      ],
      "metadata": {
        "colab": {
          "base_uri": "https://localhost:8080/"
        },
        "id": "uETUsuUTsyG_",
        "outputId": "d3ce355c-0146-461d-a3f6-a48f8e2fa444"
      },
      "execution_count": 26,
      "outputs": [
        {
          "output_type": "stream",
          "name": "stdout",
          "text": [
            "  410  1514 25139 dataset.fasta\n"
          ]
        }
      ]
    },
    {
      "cell_type": "markdown",
      "source": [
        "### Alignment\n",
        "In order to build an Hidden Markov Model, an alignment of the sequences is needed. But first it's important to reduce redundancy, clusterizing the merged dataset."
      ],
      "metadata": {
        "id": "ukW95wPEWEa9"
      }
    },
    {
      "cell_type": "code",
      "source": [
        "#To clusterize we will use cd-hit\n",
        "! apt-get install cd-hit"
      ],
      "metadata": {
        "id": "hUkizMovtsdL"
      },
      "execution_count": null,
      "outputs": []
    },
    {
      "cell_type": "code",
      "source": [
        "#The -c option is used to set a cutoff\n",
        "! cd-hit -i dataset.fasta -o clust_dataset.fasta -c 0.95"
      ],
      "metadata": {
        "colab": {
          "base_uri": "https://localhost:8080/"
        },
        "id": "-qbOYYLTt3jQ",
        "outputId": "e55973b7-3c50-4f4a-ac1b-d0fff07edf7c"
      },
      "execution_count": 28,
      "outputs": [
        {
          "output_type": "stream",
          "name": "stdout",
          "text": [
            "================================================================\n",
            "Program: CD-HIT, V4.7 (+OpenMP), Jul 01 2017, 08:43:07\n",
            "Command: cd-hit -i dataset.fasta -o clust_dataset.fasta -c\n",
            "         0.95\n",
            "\n",
            "Started: Mon May 16 00:12:35 2022\n",
            "================================================================\n",
            "                            Output                              \n",
            "----------------------------------------------------------------\n",
            "total seq: 205\n",
            "longest and shortest : 100 and 43\n",
            "Total letters: 12214\n",
            "Sequences have been sorted\n",
            "\n",
            "Approximated minimal memory consumption:\n",
            "Sequence        : 0M\n",
            "Buffer          : 1 X 10M = 10M\n",
            "Table           : 1 X 65M = 65M\n",
            "Miscellaneous   : 0M\n",
            "Total           : 75M\n",
            "\n",
            "Table limit with the given memory limit:\n",
            "Max number of representatives: 4000000\n",
            "Max number of word counting entries: 90512306\n",
            "\n",
            "\rcomparing sequences from          0  to        205\n",
            "\n",
            "      205  finished         21  clusters\n",
            "\n",
            "Apprixmated maximum memory consumption: 75M\n",
            "writing new database\n",
            "writing clustering information\n",
            "program completed !\n",
            "\n",
            "Total CPU time 0.07\n"
          ]
        }
      ]
    },
    {
      "cell_type": "code",
      "source": [
        "#To prepare the ID chains for the PDBefold multiple structural alignment\n",
        "! grep \">\" clust_dataset.fasta | cut -d \" \" -f 1 | tr -d \">\" |tr \"_\" \":\" > sel_chains.txt"
      ],
      "metadata": {
        "id": "iJkyL-QlwLfd"
      },
      "execution_count": 29,
      "outputs": []
    },
    {
      "cell_type": "code",
      "source": [
        "! head -n 5 sel_chains.txt"
      ],
      "metadata": {
        "colab": {
          "base_uri": "https://localhost:8080/"
        },
        "id": "bD9cWhjxwP60",
        "outputId": "cd216b3b-49e3-49e4-bca1-c92746ee6168"
      },
      "execution_count": 30,
      "outputs": [
        {
          "output_type": "stream",
          "name": "stdout",
          "text": [
            "1brb:I\n",
            "1dtx:A\n",
            "1fak:I\n",
            "1knt:A\n",
            "1t8l:B\n"
          ]
        }
      ]
    },
    {
      "cell_type": "markdown",
      "source": [
        "We are left with 21 proteins, which will be the representative for each cluster. The representatives are selected based on resolution."
      ],
      "metadata": {
        "id": "d7gHS_KCW8CM"
      }
    },
    {
      "cell_type": "code",
      "source": [
        "#We replace 4bnr:I with 3tgi:I, to choose it as representative of that cluster, since it was used as seed to retrieve the original PDBeFold dataset\n",
        "! sed 's/4bnr:I/3tgi:I/g' sel_chains.txt > sel_chains_final.txt"
      ],
      "metadata": {
        "id": "hpRlq_mPw_WK"
      },
      "execution_count": 31,
      "outputs": []
    },
    {
      "cell_type": "markdown",
      "source": [
        "Inserting the text file on the PDBe-Fold, we obtained a multiple structural alignment file, which can be found on the Github repository."
      ],
      "metadata": {
        "id": "-Atycabj3noN"
      }
    },
    {
      "cell_type": "code",
      "source": [
        "! wget https://raw.githubusercontent.com/pmastrogiovanni/kunitz_hmm/main/starting_files/alignment.txt"
      ],
      "metadata": {
        "id": "kY2pxoZA3vjR"
      },
      "execution_count": null,
      "outputs": []
    },
    {
      "cell_type": "code",
      "source": [
        "! head -n 8 alignment.txt"
      ],
      "metadata": {
        "colab": {
          "base_uri": "https://localhost:8080/"
        },
        "id": "I8gcRWID9KGO",
        "outputId": "f4188988-7f7a-4e15-ffe5-02d03bb39f05"
      },
      "execution_count": 33,
      "outputs": [
        {
          "output_type": "stream",
          "name": "stdout",
          "text": [
            ">PDB:1brb:I CRYSTAL STRUCTURES OF RAT ANIONIC TRYPSIN COMPLEXE\n",
            "---------A---GEPPYT-G-PCkARIIRYFYNAKAGLCQTFVYGGCRAKRNNFKSAEDCMRTA----\n",
            "\n",
            ">PDB:1dtx:A CRYSTAL STRUCTURE OF ALPHA-DENDROTOXIN FROM THE GR\n",
            "-----eprrKl-cILHRNP-G-RCyDKIPAFYYNQKKKQCERFDWSGCGGNSNRFKTIEECRRTCig--\n",
            "\n",
            ">PDB:1fak:I HUMAN TISSUE FACTOR COMPLEXED WITH COAGULATION FAC\n",
            "-------apDf-cLEPPYD-G-PCrALHLRYFYNAKAGLCQTFYYGGCLAKRNNFESAEDCMRTC----\n"
          ]
        }
      ]
    },
    {
      "cell_type": "markdown",
      "source": [
        "----"
      ],
      "metadata": {
        "id": "WSrvuHYZUkk0"
      }
    },
    {
      "cell_type": "markdown",
      "source": [
        "# HMM build\n",
        "Starting from the alignment of the reference protein containing the kunitz domain, the hmm can now be built."
      ],
      "metadata": {
        "id": "hw1x9rKW-DPy"
      }
    },
    {
      "cell_type": "code",
      "source": [
        "! apt-get install hmmer"
      ],
      "metadata": {
        "id": "FWEVBYrP-FQO"
      },
      "execution_count": null,
      "outputs": []
    },
    {
      "cell_type": "code",
      "source": [
        "! hmmbuild kunitz.hmm alignment.txt"
      ],
      "metadata": {
        "colab": {
          "base_uri": "https://localhost:8080/"
        },
        "id": "zyxYFJ8b-OFn",
        "outputId": "b505004c-e92e-4fb8-9c17-90ff56c27adc"
      },
      "execution_count": 35,
      "outputs": [
        {
          "output_type": "stream",
          "name": "stdout",
          "text": [
            "# hmmbuild :: profile HMM construction from multiple sequence alignments\n",
            "# HMMER 3.1b2 (February 2015); http://hmmer.org/\n",
            "# Copyright (C) 2015 Howard Hughes Medical Institute.\n",
            "# Freely distributed under the GNU General Public License (GPLv3).\n",
            "# - - - - - - - - - - - - - - - - - - - - - - - - - - - - - - - - - - - -\n",
            "# input alignment file:             alignment.txt\n",
            "# output HMM file:                  kunitz.hmm\n",
            "# - - - - - - - - - - - - - - - - - - - - - - - - - - - - - - - - - - - -\n",
            "\n",
            "# idx name                  nseq  alen  mlen eff_nseq re/pos description\n",
            "#---- -------------------- ----- ----- ----- -------- ------ -----------\n",
            "1     alignment               21    69    58     2.36  0.961 \n",
            "\n",
            "# CPU time: 0.06u 0.00s 00:00:00.06 Elapsed: 00:00:00.06\n"
          ]
        }
      ]
    },
    {
      "cell_type": "code",
      "source": [
        "! head kunitz.hmm"
      ],
      "metadata": {
        "colab": {
          "base_uri": "https://localhost:8080/"
        },
        "id": "tlAqQjq5-YAc",
        "outputId": "a77251ce-8f6e-42b1-f468-a4defbd2e7b3"
      },
      "execution_count": 36,
      "outputs": [
        {
          "output_type": "stream",
          "name": "stdout",
          "text": [
            "HMMER3/f [3.1b2 | February 2015]\n",
            "NAME  alignment\n",
            "LENG  58\n",
            "ALPH  amino\n",
            "RF    no\n",
            "MM    no\n",
            "CONS  yes\n",
            "CS    no\n",
            "MAP   yes\n",
            "DATE  Mon May 16 00:12:48 2022\n"
          ]
        }
      ]
    },
    {
      "cell_type": "markdown",
      "source": [
        "# Model Optimization\n",
        "To increase the accuracy of the model, we will do cross-validation starting from 2 subsets, composed by mixed positives and negatives."
      ],
      "metadata": {
        "id": "xFrrswgk_JnQ"
      }
    },
    {
      "cell_type": "markdown",
      "source": [
        "### Preparation of the cross-validation dataset"
      ],
      "metadata": {
        "id": "vcihKEwuYHTU"
      }
    },
    {
      "cell_type": "markdown",
      "source": [
        "The positive dataset was donwloaded on Uniprot through an advanced search, using as filters:\n",
        "- pfam cross referenced (pf00014)\n",
        "- Reviewed\n",
        "- Not cross referenced to the PDB (to avoid taking proteins that were part of the training set)"
      ],
      "metadata": {
        "id": "S7AkKSQxYQtc"
      }
    },
    {
      "cell_type": "code",
      "source": [
        "! wget https://raw.githubusercontent.com/pmastrogiovanni/kunitz_hmm/main/starting_files/uniprot_positives.fasta"
      ],
      "metadata": {
        "id": "PLRVmd1yon1m"
      },
      "execution_count": null,
      "outputs": []
    },
    {
      "cell_type": "code",
      "source": [
        "! grep \">\" uniprot_positives.fasta | wc"
      ],
      "metadata": {
        "colab": {
          "base_uri": "https://localhost:8080/"
        },
        "id": "2hWQdnXUBNCD",
        "outputId": "0efa0a83-6eab-4fc3-9d42-0f73433b390b"
      },
      "execution_count": 38,
      "outputs": [
        {
          "output_type": "stream",
          "name": "stdout",
          "text": [
            "    336    3408   35234\n"
          ]
        }
      ]
    },
    {
      "cell_type": "markdown",
      "source": [
        "The negatives dataset was also downloaded from Uniprot, using as filters:\n",
        "- Not cross referenced to pfam id pf00014\n",
        "- Reviewed\n",
        "- Sequence lenght from 40 to 10000 (to reduce computation time)\n"
      ],
      "metadata": {
        "id": "lbVCLlX2BaBP"
      }
    },
    {
      "cell_type": "code",
      "source": [
        "! gdown --id 1I0SSiJNIeoV8I4PeOA1wgxTDdK_vCqf3"
      ],
      "metadata": {
        "id": "XXfj3Bd8tHgC"
      },
      "execution_count": null,
      "outputs": []
    },
    {
      "cell_type": "code",
      "source": [
        "! grep \">\" uniprot_negatives.fasta | wc"
      ],
      "metadata": {
        "id": "xIwqZC8gBcXX",
        "colab": {
          "base_uri": "https://localhost:8080/"
        },
        "outputId": "296b622f-2f27-47ff-8e29-277cb9b4ab01"
      },
      "execution_count": 40,
      "outputs": [
        {
          "output_type": "stream",
          "name": "stdout",
          "text": [
            " 557267 8145603 72209028\n"
          ]
        }
      ]
    },
    {
      "cell_type": "code",
      "source": [
        "#To build the subsets, first we isolate the identifiers\n",
        "! grep \">\" uniprot_positives.fasta | cut -d \"|\" -f 2 > pos_list.txt\n",
        "! grep \">\" uniprot_negatives.fasta | cut -d \"|\" -f 2 > neg_list.txt\n"
      ],
      "metadata": {
        "id": "kJIZRESQblaS"
      },
      "execution_count": 41,
      "outputs": []
    },
    {
      "cell_type": "code",
      "source": [
        "#Then we shuffle them\n",
        "! sort -R pos_list.txt > shuffle_pos_list.txt\n",
        "! sort -R neg_list.txt > shuffle_neg_list.txt"
      ],
      "metadata": {
        "id": "4zo5CFT2dOLw"
      },
      "execution_count": 42,
      "outputs": []
    },
    {
      "cell_type": "code",
      "source": [
        "#We divide the positives and negatives in 2 equal parts\n",
        "#336/2 = 168\n",
        "! head -n 168 shuffle_pos_list.txt > positives-1.txt\n",
        "! tail -n 168 shuffle_pos_list.txt > positives-2.txt\n",
        "\n",
        "#557267/2 = 278633.5\n",
        "! head -n 278633 shuffle_neg_list.txt > negatives-1.txt\n",
        "! tail -n 278634 shuffle_neg_list.txt > negatives-2.txt"
      ],
      "metadata": {
        "id": "Pf0CG809dqNZ"
      },
      "execution_count": 43,
      "outputs": []
    },
    {
      "cell_type": "markdown",
      "source": [
        "Now that the ID lists of the 2 subsets are created, we can retrieve their sequences from the starting Uniprot files with a python script."
      ],
      "metadata": {
        "id": "47B5hIPvfIXb"
      }
    },
    {
      "cell_type": "code",
      "source": [
        "! wget https://raw.githubusercontent.com/pmastrogiovanni/kunitz_hmm/main/py_scripts/fasta_parse.py"
      ],
      "metadata": {
        "id": "EoCBI7tCnvZl"
      },
      "execution_count": null,
      "outputs": []
    },
    {
      "cell_type": "code",
      "source": [
        "#We apply it on the positives\n",
        "! python fasta_parse.py positives-1.txt uniprot_positives.fasta > positives-1.fasta\n",
        "! python fasta_parse.py positives-2.txt uniprot_positives.fasta > positives-2.fasta\n",
        "\n",
        "#and on the negatives\n",
        "! python fasta_parse.py negatives-1.txt uniprot_negatives.fasta > negatives-1.fasta\n",
        "! python fasta_parse.py negatives-2.txt uniprot_negatives.fasta > negatives-2.fasta\n",
        "\n"
      ],
      "metadata": {
        "id": "DXRuNlcbn25A"
      },
      "execution_count": 45,
      "outputs": []
    },
    {
      "cell_type": "code",
      "source": [
        "#Test of the hmm on the subsets\n",
        "!hmmsearch -Z 1 --domZ 1 --max --tblout positives-1.match kunitz.hmm positives-1.fasta\n",
        "!hmmsearch -Z 1 --domZ 1 --max --tblout positives-2.match kunitz.hmm positives-2.fasta\n",
        "!hmmsearch -Z 1 --domZ 1 --max --tblout negatives-1.match kunitz.hmm negatives-1.fasta\n",
        "!hmmsearch -Z 1 --domZ 1 --max --tblout negatives-2.match kunitz.hmm negatives-2.fasta"
      ],
      "metadata": {
        "id": "NECIQ9Jzp2jg"
      },
      "execution_count": null,
      "outputs": []
    },
    {
      "cell_type": "code",
      "source": [
        "#To get the e-values for the predictions\n",
        "#We add a class column with 0 for negatives and 1 for positives\n",
        "!grep -v \"#\" negatives-1.match | awk '{print $1,$8,0}' > negatives-1.class\n",
        "!grep -v \"#\" negatives-2.match | awk '{print $1,$8,0}' > negatives-2.class\n",
        "!grep -v \"#\" positives-1.match | awk '{print $1,$8,1}' > positives-1.class\n",
        "!grep -v \"#\" positives-2.match | awk '{print $1,$8,1}' > positives-2.class"
      ],
      "metadata": {
        "id": "qZa3AJB5x29t"
      },
      "execution_count": 47,
      "outputs": []
    },
    {
      "cell_type": "code",
      "source": [
        "#Counting the negatives, we can see that many proteins didn't get past the evalue trashold\n",
        "! wc negatives-1.class"
      ],
      "metadata": {
        "colab": {
          "base_uri": "https://localhost:8080/"
        },
        "id": "2o4qwjJxywDY",
        "outputId": "bbfff2f3-3969-476e-e361-ff5546659a43"
      },
      "execution_count": 48,
      "outputs": [
        {
          "output_type": "stream",
          "name": "stdout",
          "text": [
            " 129167  387501 1662300 negatives-1.class\n"
          ]
        }
      ]
    },
    {
      "cell_type": "code",
      "source": [
        "#We append the missing ones, setting as e-value 10 (generic high number)\n",
        "! comm -23 <(sort negatives-1.txt) <(cut -d \" \" -f 1 negatives-1.class | sort) | awk '{print $1,10,0}' >> negatives-1.class\n",
        "! comm -23 <(sort negatives-2.txt) <(cut -d \" \" -f 1 negatives-2.class | sort) | awk '{print $1,10,0}' >> negatives-2.class"
      ],
      "metadata": {
        "id": "gIXBqzTkzCY_"
      },
      "execution_count": 49,
      "outputs": []
    },
    {
      "cell_type": "code",
      "source": [
        "! wc negatives-2.class negatives-2.txt"
      ],
      "metadata": {
        "colab": {
          "base_uri": "https://localhost:8080/"
        },
        "id": "-MyzrjY7zUuM",
        "outputId": "bda49f7d-192e-4d2f-a5af-b4cc63bddfdd"
      },
      "execution_count": 50,
      "outputs": [
        {
          "output_type": "stream",
          "name": "stdout",
          "text": [
            " 278634  835902 3458817 negatives-2.class\n",
            " 278634  278634 1956990 negatives-2.txt\n",
            " 557268 1114536 5415807 total\n"
          ]
        }
      ]
    },
    {
      "cell_type": "code",
      "source": [
        "#Merging the negatives with the positives the subsets are completed\n",
        "!cat positives-1.class negatives-1.class > set-1.class\n",
        "!cat positives-2.class negatives-2.class > set-2.class"
      ],
      "metadata": {
        "id": "dQywsTyy0yrN"
      },
      "execution_count": 51,
      "outputs": []
    },
    {
      "cell_type": "markdown",
      "source": [
        "### Test performance and optimization\n"
      ],
      "metadata": {
        "id": "ARYE3ceUpwhe"
      }
    },
    {
      "cell_type": "markdown",
      "source": [
        "To compute the accuracy of the model, another python script is needed."
      ],
      "metadata": {
        "id": "vaca32EL1JAw"
      }
    },
    {
      "cell_type": "code",
      "source": [
        "! wget https://raw.githubusercontent.com/pmastrogiovanni/kunitz_hmm/main/py_scripts/accuracy.py"
      ],
      "metadata": {
        "id": "zGDhInc71O6H"
      },
      "execution_count": null,
      "outputs": []
    },
    {
      "cell_type": "code",
      "source": [
        "! python accuracy.py set-1.class 0.001"
      ],
      "metadata": {
        "id": "qk6FaCXB7pzy",
        "outputId": "72077ba3-a79b-4bc8-d720-16a8942b4f07",
        "colab": {
          "base_uri": "https://localhost:8080/"
        }
      },
      "execution_count": 53,
      "outputs": [
        {
          "output_type": "stream",
          "name": "stdout",
          "text": [
            "TH: 0.001 Accuracy: 0.9997238173464227 MCC: 0.8278290727080088 TN: 278556.0 FN: 0.0 FP: 77.0 TP: 168.0\n"
          ]
        }
      ]
    },
    {
      "cell_type": "markdown",
      "source": [
        "From the first accuracy check, we can see that the model has low MCC, and classifies a lot of false positives. The trashold must be set lower.\n",
        "\n",
        "To select a proper trashold range to test, we take a look among the lowest e-values in the negatives."
      ],
      "metadata": {
        "id": "UHhKfegxLzFo"
      }
    },
    {
      "cell_type": "code",
      "source": [
        "! sort -k 2 negatives-1.class | tail"
      ],
      "metadata": {
        "colab": {
          "base_uri": "https://localhost:8080/"
        },
        "id": "xQJ2KtwXMLhF",
        "outputId": "5d295da8-2215-495e-9f42-07b00e70640e"
      },
      "execution_count": 54,
      "outputs": [
        {
          "output_type": "stream",
          "name": "stdout",
          "text": [
            "P54762 2.7e-05 0\n",
            "Q07494 2.7e-05 0\n",
            "P56409 3.9e-08 0\n",
            "P28693 4.1e-05 0\n",
            "Q90344 4.1e-05 0\n",
            "P78746 6.6e-06 0\n",
            "P29323 7.2e-05 0\n",
            "P81456 7.7e-05 0\n",
            "C0CMQ7 8.5e-05 0\n",
            "Q91694 8.8e-05 0\n"
          ]
        }
      ]
    },
    {
      "cell_type": "markdown",
      "source": [
        "Since the lowest are around e-05, we try using a trashold range between e-03 and e-10."
      ],
      "metadata": {
        "id": "Rh5qAU3xMsna"
      }
    },
    {
      "cell_type": "code",
      "source": [
        "! for i in 1e-3 1e-4 1e-5 1e-6 1e-7 1e-8 1e-9 1e-10; do python accuracy.py set-1.class $i; done > opt-table-1.txt\n",
        "! for i in 1e-3 1e-4 1e-5 1e-6 1e-7 1e-8 1e-9 1e-10; do python accuracy.py set-2.class $i; done > opt-table-2.txt"
      ],
      "metadata": {
        "id": "xz21QGZHMe6-"
      },
      "execution_count": 63,
      "outputs": []
    },
    {
      "cell_type": "code",
      "source": [
        "! cat opt-table-1.txt"
      ],
      "metadata": {
        "colab": {
          "base_uri": "https://localhost:8080/"
        },
        "id": "OoDT2JMKNGTZ",
        "outputId": "958ee09b-3622-4dec-a5a4-9fd38c58e188"
      },
      "execution_count": 56,
      "outputs": [
        {
          "output_type": "stream",
          "name": "stdout",
          "text": [
            "TH: 0.001 Accuracy: 0.9997238173464227 MCC: 0.8278290727080088 TN: 278556.0 FN: 0.0 FP: 77.0 TP: 168.0\n",
            "TH: 0.0001 Accuracy: 0.9999533717597856 MCC: 0.9631289988444836 TN: 278620.0 FN: 0.0 FP: 13.0 TP: 168.0\n",
            "TH: 1e-05 Accuracy: 0.9999856528491649 MCC: 0.9880058758748453 TN: 278629.0 FN: 0.0 FP: 4.0 TP: 168.0\n",
            "TH: 1e-06 Accuracy: 0.9999856528491649 MCC: 0.9878851375022389 TN: 278630.0 FN: 1.0 FP: 3.0 TP: 167.0\n",
            "TH: 1e-07 Accuracy: 0.9999892396368736 MCC: 0.9908035861292557 TN: 278631.0 FN: 1.0 FP: 2.0 TP: 167.0\n",
            "TH: 1e-08 Accuracy: 0.9999928264245824 MCC: 0.9937480536434549 TN: 278632.0 FN: 1.0 FP: 1.0 TP: 167.0\n",
            "TH: 1e-09 Accuracy: 0.9999892396368736 MCC: 0.9907505071844739 TN: 278632.0 FN: 2.0 FP: 1.0 TP: 166.0\n",
            "TH: 1e-10 Accuracy: 0.9999856528491649 MCC: 0.9877438653115145 TN: 278632.0 FN: 3.0 FP: 1.0 TP: 165.0\n"
          ]
        }
      ]
    },
    {
      "cell_type": "markdown",
      "source": [
        "From the analysis on the first subset, seems that the trashold should be between 1e-8 and 1e-10 is the one that produces the higher MCC"
      ],
      "metadata": {
        "id": "exBErVH_NRhS"
      }
    },
    {
      "cell_type": "code",
      "source": [
        "! cat opt-table-2.txt"
      ],
      "metadata": {
        "colab": {
          "base_uri": "https://localhost:8080/"
        },
        "id": "_557JqqMNOUg",
        "outputId": "0070baaa-474a-4bc4-a5c8-948463439713"
      },
      "execution_count": 57,
      "outputs": [
        {
          "output_type": "stream",
          "name": "stdout",
          "text": [
            "TH: 0.001 Accuracy: 0.9997238183370277 MCC: 0.8278290736036448 TN: 278557.0 FN: 0.0 FP: 77.0 TP: 168.0\n",
            "TH: 0.0001 Accuracy: 0.9999497851521869 MCC: 0.9604793954782012 TN: 278620.0 FN: 0.0 FP: 14.0 TP: 168.0\n",
            "TH: 1e-05 Accuracy: 0.9999856529006248 MCC: 0.9880058769432181 TN: 278630.0 FN: 0.0 FP: 4.0 TP: 168.0\n",
            "TH: 1e-06 Accuracy: 0.9999892396754686 MCC: 0.9908905728453448 TN: 278631.0 FN: 0.0 FP: 3.0 TP: 168.0\n",
            "TH: 1e-07 Accuracy: 0.9999856529006248 MCC: 0.9878851385707096 TN: 278631.0 FN: 1.0 FP: 3.0 TP: 167.0\n",
            "TH: 1e-08 Accuracy: 0.9999856529006248 MCC: 0.9878851385707096 TN: 278631.0 FN: 1.0 FP: 3.0 TP: 167.0\n",
            "TH: 1e-09 Accuracy: 0.9999856529006248 MCC: 0.9878851385707096 TN: 278631.0 FN: 1.0 FP: 3.0 TP: 167.0\n",
            "TH: 1e-10 Accuracy: 0.9999856529006248 MCC: 0.9878851385707096 TN: 278631.0 FN: 1.0 FP: 3.0 TP: 167.0\n"
          ]
        }
      ]
    },
    {
      "cell_type": "markdown",
      "source": [
        "On the second subset, the best seems to be between 1e-5 and 1e-6.\n",
        "\n",
        "Averaging the best results from the analyses on the 2 subset, the optimal trashold should will be 1e-8."
      ],
      "metadata": {
        "id": "XEFxe_1SNlo4"
      }
    },
    {
      "cell_type": "code",
      "source": [
        "#just to build the plot we test each one:\n",
        "! for i in 1e-3 1e-4 1e-5 1e-6 1e-7 1e-8 1e-9 1e-10; do python accuracy.py  <(cat set-1.class set-2.class) $i; done > opt-table-final.txt"
      ],
      "metadata": {
        "id": "ve3AMr9ON8hq"
      },
      "execution_count": 64,
      "outputs": []
    },
    {
      "cell_type": "code",
      "source": [
        "#! cat opt-table-final.txt"
      ],
      "metadata": {
        "id": "iTm8meWRO8CM"
      },
      "execution_count": null,
      "outputs": []
    },
    {
      "cell_type": "code",
      "source": [
        "import pandas as pd\n",
        "import matplotlib.pyplot as plt\n",
        "\n",
        "\n",
        "data = []\n",
        "with open(\"opt-table-final.txt\",\"r\") as f:\n",
        "  i = 0\n",
        "  for line in f:\n",
        "      if i > 1:\n",
        "          l = line.strip().split()\n",
        "          data.append((float(l[1]), float(l[5])))\n",
        "      i += 1\n",
        "\n",
        "df = pd.DataFrame(data, columns=[\"e-values\",\"MCC\"])\n",
        "df.plot(x ='e-values', y='MCC', kind = 'line', color = \"maroon\")\n",
        "plt.xscale('log')\n",
        "#plt.savefig('e-values.png', dpi = 300, bbox_inches='tight')\n",
        "plt.show()\n"
      ],
      "metadata": {
        "colab": {
          "base_uri": "https://localhost:8080/",
          "height": 283
        },
        "id": "ouBIY76yPOAI",
        "outputId": "a51ef325-da27-43c5-cf3d-a40c4f0645ca"
      },
      "execution_count": 96,
      "outputs": [
        {
          "output_type": "display_data",
          "data": {
            "text/plain": [
              "<Figure size 432x288 with 1 Axes>"
            ],
            "image/png": "[encoded data removed]"
          },
          "metadata": {
            "needs_background": "light"
          }
        }
      ]
    },
    {
      "cell_type": "code",
      "source": [
        "! python accuracy.py <(cat set-1.class set-2.class) 1e-8"
      ],
      "metadata": {
        "colab": {
          "base_uri": "https://localhost:8080/"
        },
        "id": "lorEmj_2VpCZ",
        "outputId": "dc67da2c-c3b2-4ee6-cf43-86c9d6173750"
      },
      "execution_count": 97,
      "outputs": [
        {
          "output_type": "stream",
          "name": "stdout",
          "text": [
            "TH: 1e-08 Accuracy: 0.9999892396561711 MCC: 0.9908035866650283 TN: 557263.0 FN: 2.0 FP: 4.0 TP: 334.0\n"
          ]
        }
      ]
    },
    {
      "cell_type": "markdown",
      "source": [
        "The model seems well generalized, with an overall accuracy of 99%, and just 4 false positive and 2 false negative predictions."
      ],
      "metadata": {
        "id": "NCatBr-2One3"
      }
    },
    {
      "cell_type": "code",
      "source": [
        "import numpy as np\n",
        "import seaborn as sns\n",
        "\n",
        "cf_matrix = np.array([[334,4],[2,557263]])\n",
        "\n",
        "ax = sns.heatmap(cf_matrix, annot=True, cmap=\"Reds\", vmin=0, vmax=300)\n",
        "\n",
        "ax.set_title('Seaborn Confusion Matrix\\n\\n');\n",
        "ax.set_xlabel('\\nActual Values')\n",
        "ax.set_ylabel('Predicted Values ');\n",
        "\n",
        "## Ticket labels - List must be in alphabetical order\n",
        "ax.xaxis.set_ticklabels(['Positive','Negative'])\n",
        "ax.yaxis.set_ticklabels(['Positive','Negative'])\n",
        "\n",
        "## Display the visualization of the Confusion Matrix.\n",
        "#plt.savefig('High_CM.png', dpi = 300, bbox_inches='tight')\n",
        "plt.show()"
      ],
      "metadata": {
        "colab": {
          "base_uri": "https://localhost:8080/",
          "height": 337
        },
        "id": "zbb3_kiNIMj3",
        "outputId": "a411eb43-f1bb-4ea9-fcbf-a3ca9826b048"
      },
      "execution_count": 59,
      "outputs": [
        {
          "output_type": "display_data",
          "data": {
            "text/plain": [
              "<Figure size 432x288 with 2 Axes>"
            ],
            "image/png": "[encoded data removed]"
          },
          "metadata": {
            "needs_background": "light"
          }
        }
      ]
    },
    {
      "cell_type": "code",
      "source": [
        "! awk '{if ($2>1e-08 && $3==1) print $1}' <(cat set-1.class set-2.class)   #false negatives"
      ],
      "metadata": {
        "colab": {
          "base_uri": "https://localhost:8080/"
        },
        "id": "vEPHYRJBqahh",
        "outputId": "1d0e32f8-0c1b-4805-b892-d48847dac40b"
      },
      "execution_count": 60,
      "outputs": [
        {
          "output_type": "stream",
          "name": "stdout",
          "text": [
            "D3GGZ8\n",
            "O62247\n"
          ]
        }
      ]
    },
    {
      "cell_type": "markdown",
      "source": [
        "Looking on Uniprot, it's possible to see that the 2 false negatives are actually 2 borderline cases. They are not certain to have the serine protease inibhitor function since they differ in some characteristics from other kunitz domain proteins. This would explain why the model labelled the proteins as negatives."
      ],
      "metadata": {
        "id": "VU4fpHg5wf0i"
      }
    },
    {
      "cell_type": "code",
      "source": [
        "! awk '{if ($2<1e-08 && $3==0) print $1}' <(cat set-1.class set-2.class)   #false positives"
      ],
      "metadata": {
        "colab": {
          "base_uri": "https://localhost:8080/"
        },
        "id": "ZosJPa6EsdJd",
        "outputId": "6356ebfe-813e-4c05-d983-f04c10021747"
      },
      "execution_count": 61,
      "outputs": [
        {
          "output_type": "stream",
          "name": "stdout",
          "text": [
            "P0DV03\n",
            "P0DV05\n",
            "P0DV04\n",
            "P0DV06\n"
          ]
        }
      ]
    },
    {
      "cell_type": "markdown",
      "source": [
        "The 4 false positives that were found are all isoforms of the PI-stichotoxin protein, which is a serin protease. By looking on uniprot there is a paper supporting the presence of the kunitz domain inside it, even if the pfam identifier cannot be found on the entries. There is a Prosite identifier for the kunitz domain. This explains why our model classified these proteins as positives, while we had them inside the negative set. We can assume than that they are actually positives.\n"
      ],
      "metadata": {
        "id": "37uy683wuzoV"
      }
    },
    {
      "cell_type": "markdown",
      "source": [
        "# Sequence Logo\n",
        "The sequence logo for the model was generated using Skylign."
      ],
      "metadata": {
        "id": "jvWUhPRDReBR"
      }
    },
    {
      "cell_type": "markdown",
      "source": [
        "![picture](https://raw.githubusercontent.com/pmastrogiovanni/kunitz_hmm/main/sequence_logo.png)"
      ],
      "metadata": {
        "id": "LyJhoAa8R6XL"
      }
    }
  ]
}